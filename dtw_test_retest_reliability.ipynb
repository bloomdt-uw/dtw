{
 "cells": [
  {
   "cell_type": "markdown",
   "metadata": {},
   "source": [
    "# Bundle Profile Reliablity and Streamline Alignment"
   ]
  },
  {
   "cell_type": "markdown",
   "metadata": {},
   "source": [
    "<span style=\"color:blue\">**TODO: Provide some context and description of problem**</span>"
   ]
  },
  {
   "cell_type": "markdown",
   "metadata": {},
   "source": [
    "## Targeting Conference Abstract Deadlines \n",
    "\n",
    "- [(ISMRM) International Society for Magnetic Resonance in Medicine](https://www.ismrm.org/21m/)\n",
    "\n",
    "  - focused on general MRI methodology\n",
    "  \n",
    "  **Deadline December 16, 2020 at 23:59 EST**"
   ]
  },
  {
   "cell_type": "markdown",
   "metadata": {},
   "source": [
    "## Task List:\n",
    "\n",
    "### 1. Additional subjects\n",
    "\n",
    "  CloudKnot implementation. -- Do inital results hold for more subjects?\n",
    "\n",
    "### 2. Alternative reference for DTW\n",
    "\n",
    "  Currently using mean streamline, could use a mean weighted streamline as in `afq_profile`, or QuickBundle centriod"
   ]
  },
  {
   "cell_type": "markdown",
   "metadata": {},
   "source": [
    "## Streamline Alignment\n",
    "\n",
    "**Streamlines do not have the same length:**\n",
    " \n",
    "- There are several approaches to align streamlines, and these choices can affect results.\n",
    "\n",
    "  - Default is to sample uniform number of points from each streamline\n",
    "  \n",
    "    - While this allows for comparison across streamlines, it also will warp distance.\n",
    "    \n",
    "    - This could mean that if there are short and long streamlines the short streamline may align to a segment of the long streamline, but the streamline profile will not capture this.\n",
    "    \n",
    "**Streamlines do not necessarily begin and end in same regions**\n",
    "\n",
    "**Streamlines may not terminate in or near gray matter**"
   ]
  },
  {
   "cell_type": "markdown",
   "metadata": {},
   "source": [
    "### Methods\n",
    "\n",
    "There are several methods for aligning streamlines to calculate bundle profiles:\n",
    "\n",
    "- sampling/indexing (`set_number_of_points`)\n",
    "\n",
    "  - raw average across streamlines\n",
    "  \n",
    "  - AFQ uses `gaussian_weights(streamlines)` (weighted averaging)\n",
    "\n",
    "- segmentation (like `buan`)\n",
    "\n",
    "  - BUAN approach (segmentation)\n",
    "\n",
    "- warping\n",
    "\n",
    "  - Warped streamlines profiles (using DTW)\n",
    "\n",
    "    - using reference (mean, weighted average)\n",
    "  \n",
    "    - pairwise\n",
    "\n",
    "We would like to compare these methods.\n",
    "\n",
    "To determine which improves performance will look at test-retest reliabilty in HCP dataset."
   ]
  },
  {
   "cell_type": "markdown",
   "metadata": {},
   "source": [
    "## Steps\n",
    "\n",
    "1. get HCP and HCP_retest data\n",
    "\n",
    "2. get bundle profiles for test-retest subjects\n",
    "\n",
    "3. cacluate test-retest reliabilty\n",
    "\n",
    "  1. Profile reliability\n",
    "  \n",
    "  2. Subject reliability\n",
    "\n",
    "4. Calculate DTW using\n",
    "\n",
    "  1. reference streamline:\n",
    "  \n",
    "    - Mean\n",
    "    \n",
    "    - Weighted mean\n",
    "  \n",
    "  2. Pairwise\n",
    "  \n",
    "5. Once code is working port to CloudKnot (AWS)"
   ]
  },
  {
   "cell_type": "code",
   "execution_count": 1,
   "metadata": {},
   "outputs": [
    {
     "name": "stderr",
     "output_type": "stream",
     "text": [
      "/Users/bloomdt/anaconda/envs/dtw/lib/python3.8/site-packages/dask/dataframe/utils.py:13: FutureWarning: pandas.util.testing is deprecated. Use the functions in the public API at pandas.testing instead.\n",
      "  import pandas.util.testing as tm\n"
     ]
    }
   ],
   "source": [
    "import os\n",
    "import os.path as op\n",
    "import time\n",
    "\n",
    "from itertools import chain\n",
    "\n",
    "import numpy as np\n",
    "import pandas as pd\n",
    "\n",
    "from AFQ import api\n",
    "import AFQ.data as afd\n",
    "\n",
    "import nibabel as nib\n",
    "\n",
    "from dipy.io.streamline import load_tractogram\n",
    "from dipy.stats.analysis import afq_profile, gaussian_weights\n",
    "from dipy.tracking.streamline import set_number_of_points, values_from_volume\n",
    "\n",
    "from scipy.interpolate import splprep, splev\n",
    "\n",
    "from fastdtw import fastdtw\n",
    "\n",
    "# %matplotlib widget\n",
    "\n",
    "import matplotlib.pyplot as plt\n",
    "from mpl_toolkits.mplot3d import Axes3D"
   ]
  },
  {
   "cell_type": "markdown",
   "metadata": {},
   "source": [
    "## Retrieve HCP Data"
   ]
  },
  {
   "cell_type": "code",
   "execution_count": 2,
   "metadata": {},
   "outputs": [],
   "source": [
    "hcp_subjects = ['103818', '105923']"
   ]
  },
  {
   "cell_type": "code",
   "execution_count": 3,
   "metadata": {},
   "outputs": [],
   "source": [
    "retrieve_data = False\n",
    "\n",
    "if retrieve_data:\n",
    "    # ==== download test data ===\n",
    "    afd.fetch_hcp(hcp_subjects)\n",
    "    \n",
    "    # ==== download retest data ===\n",
    "    afd.fetch_hcp(hcp_subjects, study='HCP_Retest')"
   ]
  },
  {
   "cell_type": "code",
   "execution_count": 4,
   "metadata": {},
   "outputs": [],
   "source": [
    "fetch_s3 = False\n",
    "\n",
    "if fetch_s3:\n",
    "    for subject in hcp_subjects:\n",
    "        # ==== download test data ===\n",
    "        subject_base_dir = op.join(afd.afq_home, 'HCP_1200', 'derivatives', 'afq', f'sub-{subject}')\n",
    "\n",
    "        if not os.path.isdir(subject_base_dir):\n",
    "            os.makedirs(subject_base_dir)\n",
    "            hcp_s3_url = f's3://profile-hcp-west/hcp_reliability/single_shell/hcp_1200_afq/sub-{subject}/'\n",
    "        \n",
    "            !aws s3 cp {hcp_s3_url} {subject_base_dir} --recursive\n",
    "        else:\n",
    "            print(subject, \"test data already downloaded\")\n",
    "        \n",
    "        # ==== download retest data ===\n",
    "        subject_base_dir = op.join(afd.afq_home, 'hcp_retest', 'derivatives', 'afq', f'sub-{subject}')\n",
    "\n",
    "        if not os.path.isdir(subject_base_dir):\n",
    "            os.makedirs(subject_base_dir)\n",
    "            hcp_s3_url = f's3://profile-hcp-west/hcp_reliability/single_shell/hcp_retest_afq/sub-{subject}/'\n",
    "        \n",
    "            !aws s3 cp {hcp_s3_url} {subject_base_dir} --recursive\n",
    "        else:\n",
    "            print(subject, \"retest data already downloaded\")"
   ]
  },
  {
   "cell_type": "markdown",
   "metadata": {},
   "source": [
    "## AFQ"
   ]
  },
  {
   "cell_type": "code",
   "execution_count": 5,
   "metadata": {},
   "outputs": [
    {
     "name": "stderr",
     "output_type": "stream",
     "text": [
      "INFO:dipy.data.fetcher:Dataset is already in place. If you want to fetch it again please first remove the folder /Users/bloomdt/AFQ_data/templates \n",
      "INFO:dipy.data.fetcher:Dataset is already in place. If you want to fetch it again please first remove the folder /Users/bloomdt/AFQ_data/callosum_templates \n",
      "/Users/bloomdt/anaconda/envs/dtw/lib/python3.8/site-packages/bids/layout/models.py:98: FutureWarning: The 'extension' entity currently excludes the leading dot ('.'). As of version 0.14.0, it will include the leading dot. To suppress this warning and include the leading dot, use `bids.config.set_option('extension_initial_dot', True)`.\n",
      "  warnings.warn(\"The 'extension' entity currently excludes the leading dot ('.'). \"\n"
     ]
    },
    {
     "data": {
      "text/html": [
       "<div>\n",
       "<style scoped>\n",
       "    .dataframe tbody tr th:only-of-type {\n",
       "        vertical-align: middle;\n",
       "    }\n",
       "\n",
       "    .dataframe tbody tr th {\n",
       "        vertical-align: top;\n",
       "    }\n",
       "\n",
       "    .dataframe thead th {\n",
       "        text-align: right;\n",
       "    }\n",
       "</style>\n",
       "<table border=\"1\" class=\"dataframe\">\n",
       "  <thead>\n",
       "    <tr style=\"text-align: right;\">\n",
       "      <th></th>\n",
       "      <th>subject</th>\n",
       "      <th>dwi_file</th>\n",
       "      <th>bvec_file</th>\n",
       "      <th>bval_file</th>\n",
       "      <th>custom_tract</th>\n",
       "      <th>reg_subject</th>\n",
       "      <th>ses</th>\n",
       "      <th>timing</th>\n",
       "      <th>results_dir</th>\n",
       "      <th>gtab</th>\n",
       "      <th>dwi_affine</th>\n",
       "      <th>dwi_img</th>\n",
       "    </tr>\n",
       "  </thead>\n",
       "  <tbody>\n",
       "    <tr>\n",
       "      <th>0</th>\n",
       "      <td>100307</td>\n",
       "      <td>/Users/bloomdt/AFQ_data/HCP_1200/derivatives/d...</td>\n",
       "      <td>/Users/bloomdt/AFQ_data/HCP_1200/derivatives/d...</td>\n",
       "      <td>/Users/bloomdt/AFQ_data/HCP_1200/derivatives/d...</td>\n",
       "      <td>None</td>\n",
       "      <td>None</td>\n",
       "      <td>01</td>\n",
       "      <td>{'Tractography': 0, 'Registration': 0, 'Segmen...</td>\n",
       "      <td>/Users/bloomdt/AFQ_data/HCP_1200/derivatives/a...</td>\n",
       "      <td>&lt;dipy.core.gradients.GradientTable object at 0...</td>\n",
       "      <td>[[-1.25, 0.0, 0.0, 90.0], [0.0, 1.25, 0.0, -12...</td>\n",
       "      <td>&lt;class 'nibabel.nifti1.Nifti1Image'&gt;\\ndata sha...</td>\n",
       "    </tr>\n",
       "    <tr>\n",
       "      <th>1</th>\n",
       "      <td>103818</td>\n",
       "      <td>/Users/bloomdt/AFQ_data/HCP_1200/derivatives/d...</td>\n",
       "      <td>/Users/bloomdt/AFQ_data/HCP_1200/derivatives/d...</td>\n",
       "      <td>/Users/bloomdt/AFQ_data/HCP_1200/derivatives/d...</td>\n",
       "      <td>None</td>\n",
       "      <td>None</td>\n",
       "      <td>01</td>\n",
       "      <td>{'Tractography': 0, 'Registration': 0, 'Segmen...</td>\n",
       "      <td>/Users/bloomdt/AFQ_data/HCP_1200/derivatives/a...</td>\n",
       "      <td>&lt;dipy.core.gradients.GradientTable object at 0...</td>\n",
       "      <td>[[-1.25, 0.0, 0.0, 90.0], [0.0, 1.25, 0.0, -12...</td>\n",
       "      <td>&lt;class 'nibabel.nifti1.Nifti1Image'&gt;\\ndata sha...</td>\n",
       "    </tr>\n",
       "    <tr>\n",
       "      <th>2</th>\n",
       "      <td>105923</td>\n",
       "      <td>/Users/bloomdt/AFQ_data/HCP_1200/derivatives/d...</td>\n",
       "      <td>/Users/bloomdt/AFQ_data/HCP_1200/derivatives/d...</td>\n",
       "      <td>/Users/bloomdt/AFQ_data/HCP_1200/derivatives/d...</td>\n",
       "      <td>None</td>\n",
       "      <td>None</td>\n",
       "      <td>01</td>\n",
       "      <td>{'Tractography': 0, 'Registration': 0, 'Segmen...</td>\n",
       "      <td>/Users/bloomdt/AFQ_data/HCP_1200/derivatives/a...</td>\n",
       "      <td>&lt;dipy.core.gradients.GradientTable object at 0...</td>\n",
       "      <td>[[-1.25, 0.0, 0.0, 90.0], [0.0, 1.25, 0.0, -12...</td>\n",
       "      <td>&lt;class 'nibabel.nifti1.Nifti1Image'&gt;\\ndata sha...</td>\n",
       "    </tr>\n",
       "  </tbody>\n",
       "</table>\n",
       "</div>"
      ],
      "text/plain": [
       "  subject                                           dwi_file  \\\n",
       "0  100307  /Users/bloomdt/AFQ_data/HCP_1200/derivatives/d...   \n",
       "1  103818  /Users/bloomdt/AFQ_data/HCP_1200/derivatives/d...   \n",
       "2  105923  /Users/bloomdt/AFQ_data/HCP_1200/derivatives/d...   \n",
       "\n",
       "                                           bvec_file  \\\n",
       "0  /Users/bloomdt/AFQ_data/HCP_1200/derivatives/d...   \n",
       "1  /Users/bloomdt/AFQ_data/HCP_1200/derivatives/d...   \n",
       "2  /Users/bloomdt/AFQ_data/HCP_1200/derivatives/d...   \n",
       "\n",
       "                                           bval_file custom_tract reg_subject  \\\n",
       "0  /Users/bloomdt/AFQ_data/HCP_1200/derivatives/d...         None        None   \n",
       "1  /Users/bloomdt/AFQ_data/HCP_1200/derivatives/d...         None        None   \n",
       "2  /Users/bloomdt/AFQ_data/HCP_1200/derivatives/d...         None        None   \n",
       "\n",
       "  ses                                             timing  \\\n",
       "0  01  {'Tractography': 0, 'Registration': 0, 'Segmen...   \n",
       "1  01  {'Tractography': 0, 'Registration': 0, 'Segmen...   \n",
       "2  01  {'Tractography': 0, 'Registration': 0, 'Segmen...   \n",
       "\n",
       "                                         results_dir  \\\n",
       "0  /Users/bloomdt/AFQ_data/HCP_1200/derivatives/a...   \n",
       "1  /Users/bloomdt/AFQ_data/HCP_1200/derivatives/a...   \n",
       "2  /Users/bloomdt/AFQ_data/HCP_1200/derivatives/a...   \n",
       "\n",
       "                                                gtab  \\\n",
       "0  <dipy.core.gradients.GradientTable object at 0...   \n",
       "1  <dipy.core.gradients.GradientTable object at 0...   \n",
       "2  <dipy.core.gradients.GradientTable object at 0...   \n",
       "\n",
       "                                          dwi_affine  \\\n",
       "0  [[-1.25, 0.0, 0.0, 90.0], [0.0, 1.25, 0.0, -12...   \n",
       "1  [[-1.25, 0.0, 0.0, 90.0], [0.0, 1.25, 0.0, -12...   \n",
       "2  [[-1.25, 0.0, 0.0, 90.0], [0.0, 1.25, 0.0, -12...   \n",
       "\n",
       "                                             dwi_img  \n",
       "0  <class 'nibabel.nifti1.Nifti1Image'>\\ndata sha...  \n",
       "1  <class 'nibabel.nifti1.Nifti1Image'>\\ndata sha...  \n",
       "2  <class 'nibabel.nifti1.Nifti1Image'>\\ndata sha...  "
      ]
     },
     "metadata": {},
     "output_type": "display_data"
    },
    {
     "name": "stderr",
     "output_type": "stream",
     "text": [
      "INFO:dipy.data.fetcher:Dataset is already in place. If you want to fetch it again please first remove the folder /Users/bloomdt/AFQ_data/templates \n",
      "INFO:dipy.data.fetcher:Dataset is already in place. If you want to fetch it again please first remove the folder /Users/bloomdt/AFQ_data/callosum_templates \n",
      "/Users/bloomdt/anaconda/envs/dtw/lib/python3.8/site-packages/bids/layout/models.py:98: FutureWarning: The 'extension' entity currently excludes the leading dot ('.'). As of version 0.14.0, it will include the leading dot. To suppress this warning and include the leading dot, use `bids.config.set_option('extension_initial_dot', True)`.\n",
      "  warnings.warn(\"The 'extension' entity currently excludes the leading dot ('.'). \"\n"
     ]
    },
    {
     "data": {
      "text/html": [
       "<div>\n",
       "<style scoped>\n",
       "    .dataframe tbody tr th:only-of-type {\n",
       "        vertical-align: middle;\n",
       "    }\n",
       "\n",
       "    .dataframe tbody tr th {\n",
       "        vertical-align: top;\n",
       "    }\n",
       "\n",
       "    .dataframe thead th {\n",
       "        text-align: right;\n",
       "    }\n",
       "</style>\n",
       "<table border=\"1\" class=\"dataframe\">\n",
       "  <thead>\n",
       "    <tr style=\"text-align: right;\">\n",
       "      <th></th>\n",
       "      <th>subject</th>\n",
       "      <th>dwi_file</th>\n",
       "      <th>bvec_file</th>\n",
       "      <th>bval_file</th>\n",
       "      <th>custom_tract</th>\n",
       "      <th>reg_subject</th>\n",
       "      <th>ses</th>\n",
       "      <th>timing</th>\n",
       "      <th>results_dir</th>\n",
       "      <th>gtab</th>\n",
       "      <th>dwi_affine</th>\n",
       "      <th>dwi_img</th>\n",
       "    </tr>\n",
       "  </thead>\n",
       "  <tbody>\n",
       "    <tr>\n",
       "      <th>0</th>\n",
       "      <td>103818</td>\n",
       "      <td>/Users/bloomdt/AFQ_data/hcp_retest/derivatives...</td>\n",
       "      <td>/Users/bloomdt/AFQ_data/hcp_retest/derivatives...</td>\n",
       "      <td>/Users/bloomdt/AFQ_data/hcp_retest/derivatives...</td>\n",
       "      <td>None</td>\n",
       "      <td>None</td>\n",
       "      <td>01</td>\n",
       "      <td>{'Tractography': 0, 'Registration': 0, 'Segmen...</td>\n",
       "      <td>/Users/bloomdt/AFQ_data/hcp_retest/derivatives...</td>\n",
       "      <td>&lt;dipy.core.gradients.GradientTable object at 0...</td>\n",
       "      <td>[[-1.25, 0.0, 0.0, 90.0], [0.0, 1.25, 0.0, -12...</td>\n",
       "      <td>&lt;class 'nibabel.nifti1.Nifti1Image'&gt;\\ndata sha...</td>\n",
       "    </tr>\n",
       "    <tr>\n",
       "      <th>1</th>\n",
       "      <td>105923</td>\n",
       "      <td>/Users/bloomdt/AFQ_data/hcp_retest/derivatives...</td>\n",
       "      <td>/Users/bloomdt/AFQ_data/hcp_retest/derivatives...</td>\n",
       "      <td>/Users/bloomdt/AFQ_data/hcp_retest/derivatives...</td>\n",
       "      <td>None</td>\n",
       "      <td>None</td>\n",
       "      <td>01</td>\n",
       "      <td>{'Tractography': 0, 'Registration': 0, 'Segmen...</td>\n",
       "      <td>/Users/bloomdt/AFQ_data/hcp_retest/derivatives...</td>\n",
       "      <td>&lt;dipy.core.gradients.GradientTable object at 0...</td>\n",
       "      <td>[[-1.25, 0.0, 0.0, 90.0], [0.0, 1.25, 0.0, -12...</td>\n",
       "      <td>&lt;class 'nibabel.nifti1.Nifti1Image'&gt;\\ndata sha...</td>\n",
       "    </tr>\n",
       "  </tbody>\n",
       "</table>\n",
       "</div>"
      ],
      "text/plain": [
       "  subject                                           dwi_file  \\\n",
       "0  103818  /Users/bloomdt/AFQ_data/hcp_retest/derivatives...   \n",
       "1  105923  /Users/bloomdt/AFQ_data/hcp_retest/derivatives...   \n",
       "\n",
       "                                           bvec_file  \\\n",
       "0  /Users/bloomdt/AFQ_data/hcp_retest/derivatives...   \n",
       "1  /Users/bloomdt/AFQ_data/hcp_retest/derivatives...   \n",
       "\n",
       "                                           bval_file custom_tract reg_subject  \\\n",
       "0  /Users/bloomdt/AFQ_data/hcp_retest/derivatives...         None        None   \n",
       "1  /Users/bloomdt/AFQ_data/hcp_retest/derivatives...         None        None   \n",
       "\n",
       "  ses                                             timing  \\\n",
       "0  01  {'Tractography': 0, 'Registration': 0, 'Segmen...   \n",
       "1  01  {'Tractography': 0, 'Registration': 0, 'Segmen...   \n",
       "\n",
       "                                         results_dir  \\\n",
       "0  /Users/bloomdt/AFQ_data/hcp_retest/derivatives...   \n",
       "1  /Users/bloomdt/AFQ_data/hcp_retest/derivatives...   \n",
       "\n",
       "                                                gtab  \\\n",
       "0  <dipy.core.gradients.GradientTable object at 0...   \n",
       "1  <dipy.core.gradients.GradientTable object at 0...   \n",
       "\n",
       "                                          dwi_affine  \\\n",
       "0  [[-1.25, 0.0, 0.0, 90.0], [0.0, 1.25, 0.0, -12...   \n",
       "1  [[-1.25, 0.0, 0.0, 90.0], [0.0, 1.25, 0.0, -12...   \n",
       "\n",
       "                                             dwi_img  \n",
       "0  <class 'nibabel.nifti1.Nifti1Image'>\\ndata sha...  \n",
       "1  <class 'nibabel.nifti1.Nifti1Image'>\\ndata sha...  "
      ]
     },
     "metadata": {},
     "output_type": "display_data"
    }
   ],
   "source": [
    "def get_hcp_afq(dataset_name):\n",
    "    afq = api.AFQ(\n",
    "        bids_path=op.join(afd.afq_home, dataset_name),\n",
    "        dmriprep='dmriprep'\n",
    "    )\n",
    "    \n",
    "    display(afq.data_frame)\n",
    "    \n",
    "    return afq\n",
    "\n",
    "hcp_test_afq = get_hcp_afq('HCP_1200')\n",
    "\n",
    "hcp_retest_afq = get_hcp_afq('hcp_retest')"
   ]
  },
  {
   "cell_type": "markdown",
   "metadata": {},
   "source": [
    "### AFQ Wrappers and Data"
   ]
  },
  {
   "cell_type": "code",
   "execution_count": 6,
   "metadata": {},
   "outputs": [],
   "source": [
    "bundle_names = [*hcp_retest_afq.bundle_dict]\n",
    "# bundle_names = ['SLF_L', 'SLF_R'] "
   ]
  },
  {
   "cell_type": "code",
   "execution_count": 7,
   "metadata": {},
   "outputs": [],
   "source": [
    "n_points = 100"
   ]
  },
  {
   "cell_type": "code",
   "execution_count": 8,
   "metadata": {},
   "outputs": [],
   "source": [
    "def get_subject_iloc(afq, subject):\n",
    "    iloc = afq.data_frame.index[afq.data_frame['subject'] == subject][0]\n",
    "    \n",
    "    return iloc\n",
    "\n",
    "def get_subject_scalar_data(afq, subject, scalar):\n",
    "    iloc = get_subject_iloc(afq, subject)\n",
    "    \n",
    "    scalar_filename = afq._get_fname(\n",
    "        afq.data_frame.iloc[iloc],\n",
    "        f'_model-{scalar}.nii.gz'\n",
    "    )\n",
    "\n",
    "    scalar_data = nib.load(scalar_filename).get_fdata()\n",
    "    \n",
    "    return scalar_data\n",
    "\n",
    "def get_subject_bundle_tractogram(afq, subject, bundle_name):\n",
    "    iloc = get_subject_iloc(afq, subject)\n",
    "    \n",
    "    results_dir = afq.data_frame.iloc[iloc]['results_dir']\n",
    "    \n",
    "    fname = op.split(\n",
    "        afq._get_fname(\n",
    "            afq.data_frame.iloc[iloc],\n",
    "            f'-{bundle_name}'\n",
    "            f'_tractography.trk',\n",
    "            include_track=True,\n",
    "            include_seg=True\n",
    "        )\n",
    "    )\n",
    "\n",
    "    tractogram_filename = op.join(results_dir, 'clean_bundles', fname[1])\n",
    "    \n",
    "    tractogram = load_tractogram(tractogram_filename, 'same')\n",
    "    \n",
    "    return tractogram"
   ]
  },
  {
   "cell_type": "markdown",
   "metadata": {},
   "source": [
    "## Baseline Bundle Profiles and Correlations"
   ]
  },
  {
   "cell_type": "code",
   "execution_count": 9,
   "metadata": {},
   "outputs": [],
   "source": [
    "show_intermediate_correlations = False"
   ]
  },
  {
   "cell_type": "code",
   "execution_count": 10,
   "metadata": {},
   "outputs": [],
   "source": [
    "def get_subject_bundle_profile(afq, subject, scalar_data, bundle_name, show_streamline_profiles=False):\n",
    "    tractogram = get_subject_bundle_tractogram(afq, subject, bundle_name)\n",
    "\n",
    "    if len(tractogram.streamlines) == 0:\n",
    "        print(subject, bundle_name, 'no streamlines!')\n",
    "        return np.zeros(n_points)\n",
    "    \n",
    "    if show_streamline_profiles:\n",
    "        fgarray = set_number_of_points(tractogram.streamlines, n_points)\n",
    "        values = np.array(values_from_volume(scalar_data, fgarray, tractogram.affine))\n",
    "        mean_values = np.mean(values, axis=0)\n",
    "        \n",
    "        plt.figure()\n",
    "        plt.title(f'{subject} {bundle_name} streamline profiles')\n",
    "        plt.plot(values.T, c='tab:blue', alpha=0.1)\n",
    "        plt.plot(mean_values.T, c='black', label='$\\mu$')\n",
    "        plt.legend()\n",
    "        plt.show()\n",
    "            \n",
    "    profile = afq_profile(\n",
    "        scalar_data,\n",
    "        tractogram.streamlines,\n",
    "        tractogram.affine,\n",
    "        weights=gaussian_weights(tractogram.streamlines)\n",
    "    )\n",
    "    \n",
    "    return profile\n",
    "\n",
    "def get_bundle_profiles(afq):\n",
    "    bundle_profiles = {}\n",
    "    \n",
    "    for subject in hcp_subjects:\n",
    "        bundle_profiles[subject] = {}\n",
    "    \n",
    "        for scalar in afq.scalars:\n",
    "            bundle_profiles[subject][scalar] = {}\n",
    "            scalar_data = get_subject_scalar_data(afq, subject, scalar)\n",
    "            \n",
    "            for bundle_name in bundle_names:\n",
    "#                 bundle_profiles[subject][scalar][bundle_name] = get_subject_bundle_profile(afq, subject, scalar_data, bundle_name, bundle_name == 'SLF_L')\n",
    "                bundle_profiles[subject][scalar][bundle_name] = get_subject_bundle_profile(afq, subject, scalar_data, bundle_name)\n",
    "\n",
    "    return bundle_profiles\n",
    "\n",
    "def get_test_retest_bundle_profile_correlations(show_bundle_profile=False, show_correlations=False):\n",
    "    correlations = {}\n",
    "\n",
    "    print('test')\n",
    "    test_bundle_profiles = get_bundle_profiles(hcp_test_afq)\n",
    "    display(pd.DataFrame.from_dict(test_bundle_profiles))\n",
    "\n",
    "    print('retest')\n",
    "    retest_bundle_profiles = get_bundle_profiles(hcp_retest_afq)\n",
    "    display(pd.DataFrame.from_dict(retest_bundle_profiles))\n",
    "\n",
    "    for scalar in hcp_retest_afq.scalars:\n",
    "        correlations[scalar] = {}\n",
    "        for subject in hcp_subjects:\n",
    "            correlations[scalar][subject] = {}\n",
    "            for bundle_name in bundle_names:\n",
    "                test_profile = test_bundle_profiles[subject][scalar][bundle_name]\n",
    "                retest_profile = retest_bundle_profiles[subject][scalar][bundle_name]\n",
    "\n",
    "                if show_bundle_profile:\n",
    "#                 if show_bundle_profile or bundle_name == 'SLF_L':\n",
    "                    plt.figure()\n",
    "                    plt.title(f'{scalar} {subject} {bundle_name} bundle profiles')\n",
    "                    plt.plot(test_profile, label='test')\n",
    "                    plt.plot(retest_profile, label='retest')\n",
    "                    plt.xlabel('index')\n",
    "                    plt.ylabel(scalar)\n",
    "                    plt.legend()\n",
    "                    plt.show()\n",
    "\n",
    "                test_retest_corr_matrix = pd.DataFrame(zip(*[test_profile, retest_profile]), columns=['test', 'retest']).corr()\n",
    "                \n",
    "                # select only the upper triangle off diagonals of the correlation matrix\n",
    "                test_retest_corr = test_retest_corr_matrix.where(np.triu(np.ones(test_retest_corr_matrix.shape), 1).astype(np.bool)).stack()\n",
    "                \n",
    "                if show_correlations:\n",
    "                    print(scalar, subject, bundle_name, 'test-retest correlation:\\n', test_retest_corr)\n",
    "                \n",
    "                if len(test_retest_corr) == 1:\n",
    "                    correlations[scalar][subject][bundle_name] = test_retest_corr[0]\n",
    "                else:\n",
    "                    correlations[scalar][subject][bundle_name] = 0\n",
    "                \n",
    "    return correlations"
   ]
  },
  {
   "cell_type": "code",
   "execution_count": 11,
   "metadata": {},
   "outputs": [
    {
     "name": "stdout",
     "output_type": "stream",
     "text": [
      "test\n",
      "105923 ARC_R no streamlines!\n",
      "105923 ARC_R no streamlines!\n"
     ]
    },
    {
     "data": {
      "text/html": [
       "<div>\n",
       "<style scoped>\n",
       "    .dataframe tbody tr th:only-of-type {\n",
       "        vertical-align: middle;\n",
       "    }\n",
       "\n",
       "    .dataframe tbody tr th {\n",
       "        vertical-align: top;\n",
       "    }\n",
       "\n",
       "    .dataframe thead th {\n",
       "        text-align: right;\n",
       "    }\n",
       "</style>\n",
       "<table border=\"1\" class=\"dataframe\">\n",
       "  <thead>\n",
       "    <tr style=\"text-align: right;\">\n",
       "      <th></th>\n",
       "      <th>103818</th>\n",
       "      <th>105923</th>\n",
       "    </tr>\n",
       "  </thead>\n",
       "  <tbody>\n",
       "    <tr>\n",
       "      <th>dti_fa</th>\n",
       "      <td>{'ATR_R': [0.2144683273120771, 0.2741186021085...</td>\n",
       "      <td>{'ATR_R': [0.21419657534304493, 0.264675593637...</td>\n",
       "    </tr>\n",
       "    <tr>\n",
       "      <th>dti_md</th>\n",
       "      <td>{'ATR_R': [0.0008419183109128342, 0.0008365659...</td>\n",
       "      <td>{'ATR_R': [0.0008736491941856806, 0.0008977903...</td>\n",
       "    </tr>\n",
       "  </tbody>\n",
       "</table>\n",
       "</div>"
      ],
      "text/plain": [
       "                                                   103818  \\\n",
       "dti_fa  {'ATR_R': [0.2144683273120771, 0.2741186021085...   \n",
       "dti_md  {'ATR_R': [0.0008419183109128342, 0.0008365659...   \n",
       "\n",
       "                                                   105923  \n",
       "dti_fa  {'ATR_R': [0.21419657534304493, 0.264675593637...  \n",
       "dti_md  {'ATR_R': [0.0008736491941856806, 0.0008977903...  "
      ]
     },
     "metadata": {},
     "output_type": "display_data"
    },
    {
     "name": "stdout",
     "output_type": "stream",
     "text": [
      "retest\n",
      "105923 ARC_R no streamlines!\n",
      "105923 ARC_R no streamlines!\n"
     ]
    },
    {
     "data": {
      "text/html": [
       "<div>\n",
       "<style scoped>\n",
       "    .dataframe tbody tr th:only-of-type {\n",
       "        vertical-align: middle;\n",
       "    }\n",
       "\n",
       "    .dataframe tbody tr th {\n",
       "        vertical-align: top;\n",
       "    }\n",
       "\n",
       "    .dataframe thead th {\n",
       "        text-align: right;\n",
       "    }\n",
       "</style>\n",
       "<table border=\"1\" class=\"dataframe\">\n",
       "  <thead>\n",
       "    <tr style=\"text-align: right;\">\n",
       "      <th></th>\n",
       "      <th>103818</th>\n",
       "      <th>105923</th>\n",
       "    </tr>\n",
       "  </thead>\n",
       "  <tbody>\n",
       "    <tr>\n",
       "      <th>dti_fa</th>\n",
       "      <td>{'ATR_R': [0.21572252326657787, 0.285696309983...</td>\n",
       "      <td>{'ATR_R': [0.21579807978356796, 0.273354791867...</td>\n",
       "    </tr>\n",
       "    <tr>\n",
       "      <th>dti_md</th>\n",
       "      <td>{'ATR_R': [0.0008881062496957959, 0.0008634534...</td>\n",
       "      <td>{'ATR_R': [0.0008763236553443433, 0.0008799265...</td>\n",
       "    </tr>\n",
       "  </tbody>\n",
       "</table>\n",
       "</div>"
      ],
      "text/plain": [
       "                                                   103818  \\\n",
       "dti_fa  {'ATR_R': [0.21572252326657787, 0.285696309983...   \n",
       "dti_md  {'ATR_R': [0.0008881062496957959, 0.0008634534...   \n",
       "\n",
       "                                                   105923  \n",
       "dti_fa  {'ATR_R': [0.21579807978356796, 0.273354791867...  \n",
       "dti_md  {'ATR_R': [0.0008763236553443433, 0.0008799265...  "
      ]
     },
     "metadata": {},
     "output_type": "display_data"
    }
   ],
   "source": [
    "correlations = get_test_retest_bundle_profile_correlations()"
   ]
  },
  {
   "cell_type": "markdown",
   "metadata": {},
   "source": [
    "### Profile reliability"
   ]
  },
  {
   "cell_type": "code",
   "execution_count": 12,
   "metadata": {
    "scrolled": true
   },
   "outputs": [],
   "source": [
    "fa_correlations = pd.DataFrame.from_dict(correlations['dti_fa'])\n",
    "\n",
    "if show_intermediate_correlations:\n",
    "    display(fa_correlations.T)\n",
    "\n",
    "    ax = fa_correlations.T.hist(figsize=(15, 15))"
   ]
  },
  {
   "cell_type": "code",
   "execution_count": 13,
   "metadata": {},
   "outputs": [],
   "source": [
    "fa_correlations_agg = fa_correlations.agg(['mean', 'std'], axis=1)\n",
    "fa_correlations_agg['double_std'] = 2 * fa_correlations_agg['std']\n",
    "\n",
    "median = fa_correlations_agg['mean'].median(axis=0)\n",
    "fa_correlations_agg = fa_correlations_agg.append(pd.Series(name='median', dtype=float))\n",
    "fa_correlations_agg.at['median', 'mean'] = median\n",
    "\n",
    "if show_intermediate_correlations:\n",
    "    display(fa_correlations_agg.T)\n",
    "\n",
    "    ax = fa_correlations_agg.plot.bar(y='mean', yerr='double_std')"
   ]
  },
  {
   "cell_type": "markdown",
   "metadata": {},
   "source": [
    "## Mean Warped Bundle Profiles and Correlations"
   ]
  },
  {
   "cell_type": "code",
   "execution_count": 14,
   "metadata": {},
   "outputs": [],
   "source": [
    "def get_subject_mean_warped_bundle_profile(afq, subject, scalar_data, bundle_name, show_dtw_streamline_profiles=False):\n",
    "    tractogram = get_subject_bundle_tractogram(afq, subject, bundle_name)\n",
    "    \n",
    "    if len(tractogram.streamlines) == 0:\n",
    "        print(subject, bundle_name, 'no streamlines!')\n",
    "        return np.zeros(n_points)\n",
    "    \n",
    "    fgarray = set_number_of_points(tractogram.streamlines, n_points)\n",
    "\n",
    "    values = np.array(values_from_volume(scalar_data, fgarray, tractogram.affine))\n",
    "    mean_values = np.mean(values, axis=0)\n",
    "\n",
    "    tic = time.perf_counter()\n",
    "    dtw_values = []\n",
    "\n",
    "    for value in values:\n",
    "        dist, path = fastdtw(value, mean_values)\n",
    "        path = np.array(path)\n",
    "        dtw_values.append(value[np.append(path[np.where(path[:,1][:-1] != path[:,1][1:]),0][0], len(values.T)-1)])\n",
    "\n",
    "    dtw_values = np.array(dtw_values)\n",
    "    toc = time.perf_counter()\n",
    "#     print(f'dtw calculation {toc - tic:0.4f} seconds')\n",
    "#     print(dtw_values.shape)\n",
    "\n",
    "    dtw_mean_values = np.mean(dtw_values, axis=0)\n",
    "\n",
    "    if show_dtw_streamline_profiles:\n",
    "        plt.figure()\n",
    "        plt.title(f'{subject} {bundle_name} $\\mu$-reference warped streamline profiles')\n",
    "        plt.plot(dtw_values.T, c='tab:blue', alpha=0.1)\n",
    "        plt.plot(mean_values.T, c='black', label='$\\mu$')\n",
    "        plt.plot(dtw_mean_values.T, c='black', label='$\\mu^{\\prime}$', linestyle='dashed')\n",
    "        plt.legend()\n",
    "        plt.show()\n",
    "    \n",
    "    return dtw_mean_values\n",
    "\n",
    "def get_mean_warped_bundle_profiles(afq):\n",
    "    mean_warped_bundle_profiles = {}\n",
    "    \n",
    "    for subject in hcp_subjects:\n",
    "        mean_warped_bundle_profiles[subject] = {}\n",
    "        iloc = get_subject_iloc(afq, subject)\n",
    "\n",
    "        for scalar in afq.scalars:\n",
    "            mean_warped_bundle_profiles[subject][scalar] = {}\n",
    "            scalar_data = get_subject_scalar_data(afq, subject, scalar)\n",
    "\n",
    "            for bundle_name in bundle_names:\n",
    "#                 dtw_mean_values = get_subject_mean_warped_bundle_profile(afq, subject, scalar_data, bundle_name, bundle_name == 'SLF_L')\n",
    "                dtw_mean_values = get_subject_mean_warped_bundle_profile(afq, subject, scalar_data, bundle_name)\n",
    "                mean_warped_bundle_profiles[subject][scalar][bundle_name] = dtw_mean_values\n",
    "                \n",
    "    return mean_warped_bundle_profiles\n",
    "\n",
    "def get_test_retest_mean_warped_bundle_profile_correlations(show_bundle_profile=False, show_correlations=False):\n",
    "    correlations = {}\n",
    "\n",
    "    print('test')\n",
    "    test_bundle_profiles = get_mean_warped_bundle_profiles(hcp_test_afq)\n",
    "    display(pd.DataFrame.from_dict(test_bundle_profiles))\n",
    "\n",
    "    print('retest')\n",
    "    retest_bundle_profiles = get_mean_warped_bundle_profiles(hcp_retest_afq)\n",
    "    display(pd.DataFrame.from_dict(retest_bundle_profiles))\n",
    "\n",
    "    for scalar in hcp_retest_afq.scalars:\n",
    "        correlations[scalar] = {}\n",
    "        for subject in hcp_subjects:\n",
    "            correlations[scalar][subject] = {}\n",
    "            for bundle_name in bundle_names:\n",
    "                test_profile = test_bundle_profiles[subject][scalar][bundle_name]\n",
    "                retest_profile = retest_bundle_profiles[subject][scalar][bundle_name]\n",
    "\n",
    "                if show_bundle_profile:\n",
    "#                 if show_bundle_profile or bundle_name == 'SLF_L':\n",
    "                    plt.figure()\n",
    "                    plt.title(f'{scalar} {subject} {bundle_name} bundle profiles')\n",
    "                    plt.plot(test_profile, label='test')\n",
    "                    plt.plot(retest_profile, label='retest')\n",
    "                    plt.xlabel('index')\n",
    "                    plt.ylabel(scalar)\n",
    "                    plt.legend()\n",
    "                    plt.show()\n",
    "\n",
    "                test_retest_corr_matrix = pd.DataFrame(zip(*[test_profile, retest_profile]), columns=['test', 'retest']).corr()\n",
    "                \n",
    "                # select only the upper triangle off diagonals of the correlation matrix\n",
    "                test_retest_corr = test_retest_corr_matrix.where(np.triu(np.ones(test_retest_corr_matrix.shape), 1).astype(np.bool)).stack()\n",
    "                \n",
    "                if show_correlations:\n",
    "                    print(scalar, subject, bundle_name, 'test-retest correlation:\\n', test_retest_corr)\n",
    "                \n",
    "                if len(test_retest_corr) == 1:\n",
    "                    correlations[scalar][subject][bundle_name] = test_retest_corr[0]\n",
    "                else:\n",
    "                    correlations[scalar][subject][bundle_name] = 0\n",
    "                \n",
    "    return correlations"
   ]
  },
  {
   "cell_type": "code",
   "execution_count": 15,
   "metadata": {},
   "outputs": [
    {
     "name": "stdout",
     "output_type": "stream",
     "text": [
      "test\n",
      "105923 ARC_R no streamlines!\n",
      "105923 ARC_R no streamlines!\n"
     ]
    },
    {
     "data": {
      "text/html": [
       "<div>\n",
       "<style scoped>\n",
       "    .dataframe tbody tr th:only-of-type {\n",
       "        vertical-align: middle;\n",
       "    }\n",
       "\n",
       "    .dataframe tbody tr th {\n",
       "        vertical-align: top;\n",
       "    }\n",
       "\n",
       "    .dataframe thead th {\n",
       "        text-align: right;\n",
       "    }\n",
       "</style>\n",
       "<table border=\"1\" class=\"dataframe\">\n",
       "  <thead>\n",
       "    <tr style=\"text-align: right;\">\n",
       "      <th></th>\n",
       "      <th>103818</th>\n",
       "      <th>105923</th>\n",
       "    </tr>\n",
       "  </thead>\n",
       "  <tbody>\n",
       "    <tr>\n",
       "      <th>dti_fa</th>\n",
       "      <td>{'ATR_R': [0.2197231823765439, 0.2764624153551...</td>\n",
       "      <td>{'ATR_R': [0.21970864962713477, 0.256911889847...</td>\n",
       "    </tr>\n",
       "    <tr>\n",
       "      <th>dti_md</th>\n",
       "      <td>{'ATR_R': [0.0008486241378541823, 0.0008354188...</td>\n",
       "      <td>{'ATR_R': [0.0008753623766827375, 0.0009039141...</td>\n",
       "    </tr>\n",
       "  </tbody>\n",
       "</table>\n",
       "</div>"
      ],
      "text/plain": [
       "                                                   103818  \\\n",
       "dti_fa  {'ATR_R': [0.2197231823765439, 0.2764624153551...   \n",
       "dti_md  {'ATR_R': [0.0008486241378541823, 0.0008354188...   \n",
       "\n",
       "                                                   105923  \n",
       "dti_fa  {'ATR_R': [0.21970864962713477, 0.256911889847...  \n",
       "dti_md  {'ATR_R': [0.0008753623766827375, 0.0009039141...  "
      ]
     },
     "metadata": {},
     "output_type": "display_data"
    },
    {
     "name": "stdout",
     "output_type": "stream",
     "text": [
      "retest\n",
      "105923 ARC_R no streamlines!\n",
      "105923 ARC_R no streamlines!\n"
     ]
    },
    {
     "data": {
      "text/html": [
       "<div>\n",
       "<style scoped>\n",
       "    .dataframe tbody tr th:only-of-type {\n",
       "        vertical-align: middle;\n",
       "    }\n",
       "\n",
       "    .dataframe tbody tr th {\n",
       "        vertical-align: top;\n",
       "    }\n",
       "\n",
       "    .dataframe thead th {\n",
       "        text-align: right;\n",
       "    }\n",
       "</style>\n",
       "<table border=\"1\" class=\"dataframe\">\n",
       "  <thead>\n",
       "    <tr style=\"text-align: right;\">\n",
       "      <th></th>\n",
       "      <th>103818</th>\n",
       "      <th>105923</th>\n",
       "    </tr>\n",
       "  </thead>\n",
       "  <tbody>\n",
       "    <tr>\n",
       "      <th>dti_fa</th>\n",
       "      <td>{'ATR_R': [0.22087897625706976, 0.283899992807...</td>\n",
       "      <td>{'ATR_R': [0.2250987885204518, 0.2750640156970...</td>\n",
       "    </tr>\n",
       "    <tr>\n",
       "      <th>dti_md</th>\n",
       "      <td>{'ATR_R': [0.0008597709776036279, 0.0008363742...</td>\n",
       "      <td>{'ATR_R': [0.000891702437800125, 0.00087693082...</td>\n",
       "    </tr>\n",
       "  </tbody>\n",
       "</table>\n",
       "</div>"
      ],
      "text/plain": [
       "                                                   103818  \\\n",
       "dti_fa  {'ATR_R': [0.22087897625706976, 0.283899992807...   \n",
       "dti_md  {'ATR_R': [0.0008597709776036279, 0.0008363742...   \n",
       "\n",
       "                                                   105923  \n",
       "dti_fa  {'ATR_R': [0.2250987885204518, 0.2750640156970...  \n",
       "dti_md  {'ATR_R': [0.000891702437800125, 0.00087693082...  "
      ]
     },
     "metadata": {},
     "output_type": "display_data"
    }
   ],
   "source": [
    "mean_warped_correlations = get_test_retest_mean_warped_bundle_profile_correlations()"
   ]
  },
  {
   "cell_type": "markdown",
   "metadata": {},
   "source": [
    "### Mean warped profile reliability"
   ]
  },
  {
   "cell_type": "code",
   "execution_count": 16,
   "metadata": {
    "scrolled": false
   },
   "outputs": [],
   "source": [
    "fa_mean_warped_correlations = pd.DataFrame.from_dict(mean_warped_correlations['dti_fa'])\n",
    "\n",
    "if show_intermediate_correlations:\n",
    "    display(fa_mean_warped_correlations.T)\n",
    "\n",
    "    ax = fa_mean_warped_correlations.T.hist(figsize=(15, 15))"
   ]
  },
  {
   "cell_type": "code",
   "execution_count": 17,
   "metadata": {},
   "outputs": [],
   "source": [
    "fa_mean_warped_correlations_agg = fa_mean_warped_correlations.agg(['mean', 'std'], axis=1)\n",
    "fa_mean_warped_correlations_agg['double_std'] = 2 * fa_mean_warped_correlations_agg['std']\n",
    "\n",
    "median = fa_mean_warped_correlations_agg['mean'].median(axis=0)\n",
    "fa_mean_warped_correlations_agg = fa_mean_warped_correlations_agg.append(pd.Series(name='median', dtype=float))\n",
    "fa_mean_warped_correlations_agg.at['median', 'mean'] = median\n",
    "\n",
    "if show_intermediate_correlations:\n",
    "    display(fa_mean_warped_correlations_agg.T)\n",
    "\n",
    "    ax = fa_mean_warped_correlations_agg.plot.bar(y='mean', yerr='double_std')"
   ]
  },
  {
   "cell_type": "markdown",
   "metadata": {},
   "source": [
    "## Differences in profile reliablity"
   ]
  },
  {
   "cell_type": "code",
   "execution_count": 18,
   "metadata": {},
   "outputs": [
    {
     "data": {
      "text/html": [
       "<div>\n",
       "<style scoped>\n",
       "    .dataframe tbody tr th:only-of-type {\n",
       "        vertical-align: middle;\n",
       "    }\n",
       "\n",
       "    .dataframe tbody tr th {\n",
       "        vertical-align: top;\n",
       "    }\n",
       "\n",
       "    .dataframe thead th {\n",
       "        text-align: right;\n",
       "    }\n",
       "</style>\n",
       "<table border=\"1\" class=\"dataframe\">\n",
       "  <thead>\n",
       "    <tr style=\"text-align: right;\">\n",
       "      <th></th>\n",
       "      <th>ATR_R</th>\n",
       "      <th>ATR_L</th>\n",
       "      <th>CGC_R</th>\n",
       "      <th>CGC_L</th>\n",
       "      <th>CST_R</th>\n",
       "      <th>CST_L</th>\n",
       "      <th>IFO_R</th>\n",
       "      <th>IFO_L</th>\n",
       "      <th>ILF_R</th>\n",
       "      <th>ILF_L</th>\n",
       "      <th>SLF_R</th>\n",
       "      <th>SLF_L</th>\n",
       "      <th>ARC_R</th>\n",
       "      <th>ARC_L</th>\n",
       "      <th>UNC_R</th>\n",
       "      <th>UNC_L</th>\n",
       "      <th>FA</th>\n",
       "      <th>FP</th>\n",
       "      <th>median</th>\n",
       "    </tr>\n",
       "  </thead>\n",
       "  <tbody>\n",
       "    <tr>\n",
       "      <th>baseline</th>\n",
       "      <td>0.902633</td>\n",
       "      <td>0.973435</td>\n",
       "      <td>0.934101</td>\n",
       "      <td>0.975395</td>\n",
       "      <td>0.929467</td>\n",
       "      <td>0.956361</td>\n",
       "      <td>0.978779</td>\n",
       "      <td>0.987122</td>\n",
       "      <td>0.991294</td>\n",
       "      <td>0.969552</td>\n",
       "      <td>0.965085</td>\n",
       "      <td>0.952997</td>\n",
       "      <td>0.373226</td>\n",
       "      <td>0.934111</td>\n",
       "      <td>0.970396</td>\n",
       "      <td>0.956979</td>\n",
       "      <td>0.973175</td>\n",
       "      <td>0.979886</td>\n",
       "      <td>0.967319</td>\n",
       "    </tr>\n",
       "    <tr>\n",
       "      <th>$\\mu$ dtw</th>\n",
       "      <td>0.826693</td>\n",
       "      <td>0.911201</td>\n",
       "      <td>0.905434</td>\n",
       "      <td>0.958019</td>\n",
       "      <td>0.923222</td>\n",
       "      <td>0.928494</td>\n",
       "      <td>0.981625</td>\n",
       "      <td>0.979541</td>\n",
       "      <td>0.980547</td>\n",
       "      <td>0.965288</td>\n",
       "      <td>0.940848</td>\n",
       "      <td>0.957730</td>\n",
       "      <td>0.344610</td>\n",
       "      <td>0.922239</td>\n",
       "      <td>0.945406</td>\n",
       "      <td>0.959305</td>\n",
       "      <td>0.961403</td>\n",
       "      <td>0.974741</td>\n",
       "      <td>0.951568</td>\n",
       "    </tr>\n",
       "    <tr>\n",
       "      <th>diff</th>\n",
       "      <td>0.075940</td>\n",
       "      <td>0.062234</td>\n",
       "      <td>0.028667</td>\n",
       "      <td>0.017376</td>\n",
       "      <td>0.006246</td>\n",
       "      <td>0.027867</td>\n",
       "      <td>-0.002846</td>\n",
       "      <td>0.007581</td>\n",
       "      <td>0.010747</td>\n",
       "      <td>0.004264</td>\n",
       "      <td>0.024237</td>\n",
       "      <td>-0.004733</td>\n",
       "      <td>0.028616</td>\n",
       "      <td>0.011872</td>\n",
       "      <td>0.024990</td>\n",
       "      <td>-0.002326</td>\n",
       "      <td>0.011771</td>\n",
       "      <td>0.005146</td>\n",
       "      <td>0.015750</td>\n",
       "    </tr>\n",
       "  </tbody>\n",
       "</table>\n",
       "</div>"
      ],
      "text/plain": [
       "              ATR_R     ATR_L     CGC_R     CGC_L     CST_R     CST_L  \\\n",
       "baseline   0.902633  0.973435  0.934101  0.975395  0.929467  0.956361   \n",
       "$\\mu$ dtw  0.826693  0.911201  0.905434  0.958019  0.923222  0.928494   \n",
       "diff       0.075940  0.062234  0.028667  0.017376  0.006246  0.027867   \n",
       "\n",
       "              IFO_R     IFO_L     ILF_R     ILF_L     SLF_R     SLF_L  \\\n",
       "baseline   0.978779  0.987122  0.991294  0.969552  0.965085  0.952997   \n",
       "$\\mu$ dtw  0.981625  0.979541  0.980547  0.965288  0.940848  0.957730   \n",
       "diff      -0.002846  0.007581  0.010747  0.004264  0.024237 -0.004733   \n",
       "\n",
       "              ARC_R     ARC_L     UNC_R     UNC_L        FA        FP  \\\n",
       "baseline   0.373226  0.934111  0.970396  0.956979  0.973175  0.979886   \n",
       "$\\mu$ dtw  0.344610  0.922239  0.945406  0.959305  0.961403  0.974741   \n",
       "diff       0.028616  0.011872  0.024990 -0.002326  0.011771  0.005146   \n",
       "\n",
       "             median  \n",
       "baseline   0.967319  \n",
       "$\\mu$ dtw  0.951568  \n",
       "diff       0.015750  "
      ]
     },
     "metadata": {},
     "output_type": "display_data"
    }
   ],
   "source": [
    "profile_reliability = pd.concat([fa_correlations_agg['mean'], fa_mean_warped_correlations_agg['mean'], fa_correlations_agg['mean'] - fa_mean_warped_correlations_agg['mean']], axis=1, keys=['baseline', '$\\mu$ dtw', 'diff'])\n",
    "display(profile_reliability.T)"
   ]
  },
  {
   "cell_type": "markdown",
   "metadata": {},
   "source": [
    "## Warp Streamlines Nodes based on Tissue Properties\n",
    "\n",
    "- [x] look at a few bundles across a few subjects: (e.g. ARC, CST, and FP)\n",
    "\n",
    "- consider other warping algorithms: https://en.wikipedia.org/wiki/Fast_multipole_method"
   ]
  },
  {
   "cell_type": "code",
   "execution_count": 19,
   "metadata": {},
   "outputs": [],
   "source": [
    "subject = '103818'\n",
    "bundle_name = 'FP'\n",
    "scalar = 'dti_fa'\n",
    "\n",
    "use_afq_profile = False\n",
    "calculate_statistics = False\n",
    "\n",
    "# see the bundle throughout process\n",
    "show_bundle = False\n",
    "\n",
    "# visualize where the node is within the bundle structure\n",
    "show_node_in_bundles = False\n",
    "\n",
    "show_node_area = False\n",
    "\n",
    "# see what's happening to an individual streamline throughout process\n",
    "show_random_streamline = False\n",
    "\n",
    "# see what's happening to an individual node group throughout process\n",
    "show_random_node = False\n",
    "\n",
    "# show how the streamline is warped (this will be run for every streamline so typically)\n",
    "show_streamline_map = False"
   ]
  },
  {
   "cell_type": "markdown",
   "metadata": {},
   "source": [
    "### Bundle Visualization\n",
    "  \n",
    "- Take nodes and color each point, using jet color scheme and reflect across mid point. \n",
    "\n",
    "- Use same colors across all streamlines in bundle\n",
    "\n",
    "- Desired Result:\n",
    "\n",
    "    <img src=\"bundle.png\" width=\"200\"/>\n",
    "\n",
    "- Plot before and after warping"
   ]
  },
  {
   "cell_type": "code",
   "execution_count": 20,
   "metadata": {},
   "outputs": [],
   "source": [
    "def plot_bundle(title, fgarray):\n",
    "    fig = plt.figure()\n",
    "    ax = Axes3D(fig)\n",
    "    ax.set_title(f'{title} Streamlines (RAS mm)')\n",
    "    for streamline in fgarray:\n",
    "        ax.scatter3D(streamline[:,0], streamline[:,1], streamline[:,2], c=list(chain(range(0,int(len(streamline)/2)),range(int(len(streamline)/2),0,-1))), cmap='jet')\n",
    "    ax.set_xlabel('x mm')\n",
    "    ax.set_ylabel('y mm')\n",
    "    ax.set_zlabel('z mm')\n",
    "    plt.show()"
   ]
  },
  {
   "cell_type": "code",
   "execution_count": 21,
   "metadata": {},
   "outputs": [],
   "source": [
    "tractogram = get_subject_bundle_tractogram(hcp_test_afq, subject, bundle_name)\n",
    "fgarray = set_number_of_points(tractogram.streamlines, n_points)\n",
    "\n",
    "if show_bundle:\n",
    "    \n",
    "    plot_bundle(f'{subject} {bundle_name}', fgarray)"
   ]
  },
  {
   "cell_type": "markdown",
   "metadata": {},
   "source": [
    "### Metrics\n",
    "\n",
    "- Which metrics should use to evaluate results\n",
    "\n",
    "#### Profile Reliablity (above)\n",
    "\n",
    "- Note that profile reliablity may not be ideal metric - the profiles can be reliable but reliably wrong\n",
    "\n",
    "#### Distance metric -- proposed by Jason\n",
    "\n",
    "- Look at the average pairwise distance of nodes (in xyz) across all streamlines\n",
    "  \n",
    "  -- e.g., the 10th node across all streamlines should be closer after warping.\n",
    "\n",
    "  - Compute before and after warping, expectation is that the distance should decrease\n",
    "\n",
    "- Alternatively, compute a covariance matrix (of xyz coordinates) and take the determiniate\n",
    "\n",
    "  - This should represent the area of the bundle, and ideally should get smaller after warping"
   ]
  },
  {
   "cell_type": "raw",
   "metadata": {},
   "source": [
    "> print(type(fgarray))\n",
    "\n",
    "nibabel.streamlines.array_sequence.ArraySequence\n",
    "\n",
    "> print(len(fgarray))\n",
    "1121 # number of streamlines\n",
    "\n",
    "> print(len(fgarray.get_data()))\n",
    "112100 # number of streamlines * n_points\n",
    "\n",
    "> print(type(fgarray.get_data()))\n",
    "numpy.ndarray\n",
    "\n",
    "> print(len(fgarray.get_data()))\n",
    "ArraySeqence # composed of (number streamlines * n_points, 3) i.e., (1121 * 100, 3)\n",
    "\n",
    "want for each n_point want to get correspoinding streamline coordinate\n",
    "(1121, 3)"
   ]
  },
  {
   "cell_type": "markdown",
   "metadata": {},
   "source": [
    "##### Visualize the node position within the bundle"
   ]
  },
  {
   "cell_type": "code",
   "execution_count": 22,
   "metadata": {},
   "outputs": [],
   "source": [
    "def plot_streamline(title, fgarray, streamline_idx):\n",
    "    fig = plt.figure()\n",
    "    ax = Axes3D(fig)\n",
    "    ax.set_title(f'{title} streamline {streamline_idx}')\n",
    "    streamline = fgarray[streamline_idx]\n",
    "    ax.scatter3D(streamline[:,0], streamline[:,1], streamline[:,2], c=list(chain(range(0,int(len(streamline)/2)),range(int(len(streamline)/2),0,-1))), cmap='jet')\n",
    "    ax.set_xlabel('x mm')\n",
    "    ax.set_ylabel('y mm')\n",
    "    ax.set_zlabel('z mm')\n",
    "    plt.show()\n",
    "\n",
    "def plot_random_streamline(title, fgarray):\n",
    "    plot_streamline(title, fgarray, np.random.choice(len(fgarray)-1))"
   ]
  },
  {
   "cell_type": "code",
   "execution_count": 23,
   "metadata": {},
   "outputs": [],
   "source": [
    "def plot_node(title, fgarray, node_idx):\n",
    "    data = fgarray.get_data()\n",
    "\n",
    "    # NOTE color scheme is not perfect match to show_bundle\n",
    "    colors_ids = np.concatenate((np.linspace(0.0, 1.0, 100)[::2], np.linspace(0.0, 1.0, 100)[::-2]))\n",
    "\n",
    "    alpha = 0.001\n",
    "    \n",
    "    if show_node_in_bundles:\n",
    "        alpha=0.01\n",
    "    \n",
    "    colors = iter(plt.cm.jet(colors_ids))\n",
    "\n",
    "    fig = plt.figure()\n",
    "    ax = Axes3D(fig)\n",
    "    ax.set_title(f'{title} node {node_idx}')\n",
    "\n",
    "    for i in range(n_points):\n",
    "        color = next(colors)\n",
    "        point_data = data[i::n_points]\n",
    "        ax.scatter3D(point_data[:,0], point_data[:,1], point_data[:,2], color=color, alpha=alpha)\n",
    "        if i == node_idx:\n",
    "            ax.scatter3D(point_data[:,0], point_data[:,1], point_data[:,2], color='w', edgecolors='k')\n",
    "\n",
    "    ax.set_xlabel('x mm')\n",
    "    ax.set_ylabel('y mm')\n",
    "    ax.set_zlabel('z mm')\n",
    "    plt.show()\n",
    "\n",
    "def plot_random_node(title, fgarray):\n",
    "     plot_node(title, fgarray, np.random.choice(n_points))"
   ]
  },
  {
   "cell_type": "code",
   "execution_count": 24,
   "metadata": {},
   "outputs": [],
   "source": [
    "tractogram = get_subject_bundle_tractogram(hcp_test_afq, subject, bundle_name)\n",
    "    \n",
    "fgarray = set_number_of_points(tractogram.streamlines, n_points)\n",
    "\n",
    "random_streamline_idx = np.random.choice(len(tractogram.streamlines))\n",
    "\n",
    "if show_random_streamline:\n",
    "    \n",
    "    plot_streamline(f'{subject} {bundle_name}', fgarray, random_streamline_idx)\n",
    "\n",
    "random_node_idx = np.random.choice(n_points)\n",
    "\n",
    "if show_random_node:\n",
    "    \n",
    "    plot_node(f'{subject} {bundle_name}', fgarray, random_node_idx)"
   ]
  },
  {
   "cell_type": "markdown",
   "metadata": {},
   "source": [
    "##### Determininate of the Covariate of node positions\n",
    "\n",
    "This can be approximately considered the cross sectional area at a node, i.e., corresponds to the surface volume of node across all streamlines in 3D"
   ]
  },
  {
   "cell_type": "code",
   "execution_count": 25,
   "metadata": {},
   "outputs": [],
   "source": [
    "def get_cross_sectional_area(title, fgarray, node_idx = -1):\n",
    "    cross_sectional_area = []\n",
    "\n",
    "    data = fgarray.get_data()\n",
    "\n",
    "    for i in range(n_points):\n",
    "        # 2-D array containing positions by streamline at a given node\n",
    "        # Each row of m represents a coordinate, and each column an observation\n",
    "        node_data = data[i::n_points].T\n",
    "\n",
    "        show_covariance_plot = (i == node_idx)\n",
    "\n",
    "        if show_covariance_plot:\n",
    "            print(f'node {random_node_idx} matrix shape', node_data.shape)\n",
    "            print(f'node {random_node_idx} matrix rank', np.linalg.matrix_rank(node_data))\n",
    "\n",
    "            plt.title(f'{title} covariance')\n",
    "            plt.imshow(np.cov(node_data))\n",
    "            plt.colorbar()\n",
    "            ax = plt.gca()\n",
    "            ax.set_xticks([0,1,2])\n",
    "            ax.set_xticklabels(['x','y','z'])\n",
    "            ax.set_yticks([0,1,2])\n",
    "            ax.set_yticklabels(['x','y','z'])\n",
    "            plt.show()\n",
    "\n",
    "            print(f'covariance matrix rank', np.linalg.matrix_rank(np.cov(node_data)))\n",
    "            print(f'covariance matrix trace', np.trace(np.cov(node_data)))\n",
    "            print(f'determinant of covarience matrix', np.linalg.det(np.cov(node_data)))\n",
    "\n",
    "        cross_sectional_area.append(np.linalg.det(np.cov(node_data)))\n",
    "        \n",
    "    return cross_sectional_area"
   ]
  },
  {
   "cell_type": "code",
   "execution_count": 26,
   "metadata": {},
   "outputs": [],
   "source": [
    "if calculate_statistics:\n",
    "    cross_sectional_area = get_cross_sectional_area(f'{subject} {bundle_name}', fgarray, random_node_idx)"
   ]
  },
  {
   "cell_type": "markdown",
   "metadata": {},
   "source": [
    "##### Visualize the change in area across the bundle"
   ]
  },
  {
   "cell_type": "code",
   "execution_count": 27,
   "metadata": {},
   "outputs": [],
   "source": [
    "def plot_cross_sectional_area(title, cross_sectional_area):\n",
    "    plt.title(f'{title} ~ cross sectional area')\n",
    "    plt.plot(cross_sectional_area)\n",
    "    plt.xlabel('node')\n",
    "    plt.ylabel('~ area')\n",
    "    plt.show()"
   ]
  },
  {
   "cell_type": "code",
   "execution_count": 28,
   "metadata": {},
   "outputs": [],
   "source": [
    "if calculate_statistics and show_node_area:\n",
    "    plot_cross_sectional_area(f'{subject} {bundle_name}', cross_sectional_area)"
   ]
  },
  {
   "cell_type": "code",
   "execution_count": 29,
   "metadata": {
    "scrolled": true
   },
   "outputs": [],
   "source": [
    "if calculate_statistics:\n",
    "    display(pd.DataFrame(pd.Series(cross_sectional_area).agg(['sum', 'mean', 'std']), columns=['']))"
   ]
  },
  {
   "cell_type": "markdown",
   "metadata": {},
   "source": [
    "#### Subject reliablity\n",
    "\n",
    "1. Calculate the mean of every bundle profile for each subject, bundle, and scalar tuple in test/retest\n",
    "\n",
    "2. Calcualte Pearson's correlation for mean bundle values across subjects for test/retest -- should give number per bundle and scalar pair\n",
    "\n",
    "3. Take median across all bundles -- should give number per scalar\n",
    "\n",
    "4. Calculate Fisher transform to get 90% confidence Interval"
   ]
  },
  {
   "cell_type": "markdown",
   "metadata": {},
   "source": [
    "## TODO: Streamline Warping based on Mean Coordinates\n",
    "\n",
    "As sanity check for metrics\n",
    "\n",
    "See http://localhost:8888/notebooks/fastdtw.ipynb for baseline implementation\n",
    "\n",
    "Next step here would be to apply the warping,  visualize, and calculate statistics\n"
   ]
  },
  {
   "cell_type": "markdown",
   "metadata": {},
   "source": [
    "## Streamline Warping -- propsed by Jason\n",
    "\n",
    "- Use the streamline profiles to align bundles in space\n",
    "\n",
    "- Use the dtw tissue property map to move nodes in space within streamline\n",
    "\n",
    "- Represent the streamline as a spline and interpolate (smooth and continous)\n",
    "\n",
    " See https://docs.scipy.org/doc/scipy/reference/tutorial/interpolate.html#spline-interpolation\n",
    "\n",
    "- Resample `n_points`\n",
    "\n",
    "- Ideally should make (xyz) coordinates closer together\n",
    "\n",
    "  - Cortex stays in cortex, and white matter in white matter\n",
    "  \n",
    "  - while respecting withe matter properties\n",
    "  \n",
    "- Note: could extend to do multiple warps using different tissue properties (e.g., FA and MD) or even other features/properties/metrics"
   ]
  },
  {
   "cell_type": "code",
   "execution_count": 30,
   "metadata": {},
   "outputs": [
    {
     "name": "stdout",
     "output_type": "stream",
     "text": [
      "dtw calculation 0.1364 seconds\n"
     ]
    }
   ],
   "source": [
    "def warp_target_nodes(values, mean_values):\n",
    "    dist, path = fastdtw(values, mean_values)\n",
    "\n",
    "    path = np.array(path)\n",
    "\n",
    "    # whether the value changes at current index\n",
    "    delta = path[:,1][:-1] != path[:,1][1:]\n",
    "\n",
    "    # get the indices where values change values\n",
    "    delta_indices = np.where(delta)\n",
    "\n",
    "    # use 'fancy' indexing to find tuples where values change\n",
    "    # select only the x indicies, for each node warp to these nodes\n",
    "    target_nodes = path[delta_indices, 0]\n",
    "\n",
    "    # select nested array\n",
    "    target_nodes = target_nodes[0]\n",
    "\n",
    "    # add last index\n",
    "    target_nodes = np.append(target_nodes, len(values.T)-1)\n",
    "\n",
    "    return target_nodes\n",
    "\n",
    "def get_subject_mean_warped_streamlines(afq, subject, scalar_data, bundle_name):\n",
    "    tractogram = get_subject_bundle_tractogram(afq, subject, bundle_name)\n",
    "    \n",
    "    if len(tractogram.streamlines) == 0:\n",
    "        print(subject, bundle_name, 'no streamlines!')\n",
    "        return np.zeros(n_points)\n",
    "    \n",
    "    fgarray = set_number_of_points(tractogram.streamlines, n_points)\n",
    "\n",
    "    values = np.array(values_from_volume(scalar_data, fgarray, tractogram.affine))\n",
    "    \n",
    "    if use_afq_profile:\n",
    "        mean_values = afq_profile(\n",
    "            scalar_data,\n",
    "            tractogram.streamlines,\n",
    "            tractogram.affine,\n",
    "            weights=gaussian_weights(tractogram.streamlines)\n",
    "        )\n",
    "    else:\n",
    "        mean_values = np.mean(values, axis=0)\n",
    "    \n",
    "    if show_streamline_map:\n",
    "        plt.figure()\n",
    "        plt.title(f'{subject} {bundle_name} $\\mu$-reference warping map')\n",
    "        # how does the first streamline warp to the mean\n",
    "    #     plt.plot(*zip(*fastdtw(values[0], mean_values)[1]), c='tab:blue')\n",
    "        for value in values:\n",
    "    #         plt.plot(*zip(*fastdtw(value, mean_values)[1]), c='tab:blue')\n",
    "            # make the plot more ledgible by decreasing alpha\n",
    "            plt.plot(*zip(*fastdtw(value, mean_values)[1]), c='tab:blue', alpha=0.1)\n",
    "        plt.xlabel('input streamline profile index')\n",
    "        plt.ylabel('output/target streamline profile index')\n",
    "        plt.show()\n",
    "                \n",
    "    warped_fgarray = fgarray.copy()\n",
    "\n",
    "    # show examplar streamline\n",
    "    if show_random_streamline:\n",
    "        target_nodes = warp_target_nodes(values[random_streamline_idx], mean_values)\n",
    "        warped_fgarray[random_streamline_idx] = fgarray[random_streamline_idx][target_nodes]\n",
    "        plot_streamline(f'{subject} {bundle_name}', warped_fgarray, random_streamline_idx)\n",
    "\n",
    "    tic = time.perf_counter()\n",
    "\n",
    "    for streamline_idx in range(len(tractogram.streamlines)):\n",
    "#         target_nodes = warp_streamline(value, mean_values)\n",
    "        target_nodes = warp_target_nodes(values[streamline_idx], mean_values)\n",
    "        warped_fgarray[streamline_idx] = fgarray[streamline_idx][target_nodes]\n",
    "        \n",
    "    toc = time.perf_counter()\n",
    "    print(f'dtw calculation {toc - tic:0.4f} seconds')\n",
    "    \n",
    "    return warped_fgarray\n",
    "\n",
    "scalar_data = get_subject_scalar_data(hcp_test_afq, subject, scalar)\n",
    "warped_fgarray = get_subject_mean_warped_streamlines(hcp_test_afq, subject, scalar_data, bundle_name)\n",
    "\n",
    "if show_bundle:\n",
    "    plot_bundle(f'{subject} {bundle_name}', warped_fgarray)"
   ]
  },
  {
   "cell_type": "code",
   "execution_count": 31,
   "metadata": {},
   "outputs": [],
   "source": [
    "if calculate_statistics:\n",
    "    warped_cross_sectional_area = get_cross_sectional_area(f'{subject} {bundle_name}', warped_fgarray, random_node_idx)\n",
    "    if show_node_area:\n",
    "        plot_cross_sectional_area(f'{subject} {bundle_name}', warped_cross_sectional_area)\n",
    "    display(pd.DataFrame(pd.Series(warped_cross_sectional_area).agg(['sum', 'mean', 'std']), columns=['']))"
   ]
  },
  {
   "cell_type": "code",
   "execution_count": 32,
   "metadata": {},
   "outputs": [],
   "source": [
    "if calculate_statistics and show_node_area:\n",
    "    plt.title(f'{subject} {bundle_name} ~ cross sectional area')\n",
    "    plt.plot(cross_sectional_area, label='original')\n",
    "    plt.plot(warped_cross_sectional_area, label='warped')\n",
    "    plt.xlabel('node')\n",
    "    plt.ylabel('~ area')\n",
    "    plt.legend()\n",
    "    plt.show()"
   ]
  },
  {
   "cell_type": "markdown",
   "metadata": {},
   "source": [
    "### Interpolation\n",
    "\n",
    "- Objective: change the spacing of streamlines within the bundle keeping sample size `N = n_points = 100`\n",
    "\n",
    "  - that is we end up with 100 **unevenly** spaced nodes"
   ]
  },
  {
   "cell_type": "markdown",
   "metadata": {},
   "source": [
    "#### Predicting FA value after warping for novel node"
   ]
  },
  {
   "cell_type": "raw",
   "metadata": {},
   "source": [
    "from scipy.interpolate import LinearNDInterpolator\n",
    "\n",
    "data = np.array(values_from_volume(scalar_data, warped_fgarray, tractogram.affine))\n",
    "f = LinearNDInterpolator(warped_fgarray.get_data(), data.flatten())"
   ]
  },
  {
   "cell_type": "raw",
   "metadata": {},
   "source": [
    "f(fgarray[random_streamline_idx][random_node_idx])"
   ]
  },
  {
   "cell_type": "markdown",
   "metadata": {},
   "source": [
    "#### Fit spline to warped nodes"
   ]
  },
  {
   "cell_type": "raw",
   "metadata": {},
   "source": [
    "x = warped_fgarray[random_streamline_idx][:,0]\n",
    "y = warped_fgarray[random_streamline_idx][:,1]\n",
    "z = warped_fgarray[random_streamline_idx][:,2]\n",
    "\n",
    "# must remove duplicate nodes before fitting spline\n",
    "uniq_ids = np.where(np.abs(np.diff(x)) + np.abs(np.diff(y)) + np.abs(np.diff(z)) > 0)\n",
    "x = x[uniq_ids]\n",
    "y = y[uniq_ids]\n",
    "z = z[uniq_ids]\n",
    "\n",
    "tck, u = splprep([x, y, z], s=0)"
   ]
  },
  {
   "cell_type": "markdown",
   "metadata": {},
   "source": [
    "Interpolate to `N = 2000` nodes\n",
    "\n",
    "`N` was arbitraily choosen to have sufficent number of points to subsample 100 evenly spaced for `set_number_of_points`"
   ]
  },
  {
   "cell_type": "raw",
   "metadata": {},
   "source": [
    "new_points = splev(np.linspace(0, 1, 2000), tck)\n",
    "interp_fgarray = [None] * (random_streamline_idx+1)\n",
    "interp_fgarray[random_streamline_idx] = np.array(new_points).T\n",
    "plot_streamline('103818', 'ARC_L', interp_fgarray, random_streamline_idx)"
   ]
  },
  {
   "cell_type": "markdown",
   "metadata": {},
   "source": [
    "Interpolate to 100 evenly spaced nodes\n",
    "\n",
    "Effectively regenerates the original streamline"
   ]
  },
  {
   "cell_type": "raw",
   "metadata": {},
   "source": [
    "sampled_interp_fgarray = [None] * (random_streamline_idx+1)\n",
    "sampled_interp_fgarray[random_streamline_idx] = set_number_of_points(np.array(new_points).T, n_points)\n",
    "plot_streamline('103818', 'ARC_L', sampled_interp_fgarray, random_streamline_idx)"
   ]
  },
  {
   "cell_type": "markdown",
   "metadata": {},
   "source": [
    "#### TODO: Fit spline to original\n",
    "\n",
    "- Fit spline on the original fiber bundle, with no smoothing\n",
    "\n",
    "- Then interpolate using the warped nodes\n",
    "\n",
    "  - This should reproduce the above warped streamlines\n",
    "\n",
    "- Since DTW collapses multiple nodes, perturb these collapsed nodes in some smooth manner (attractor/repel)"
   ]
  },
  {
   "cell_type": "markdown",
   "metadata": {},
   "source": [
    "- Given `target_nodes/n_points`\n",
    "\n",
    "```\n",
    "0.01, 0.02, 0.02, 0.02, 0.03, 0.03, 0.03, 0.03, 0.04, 0.04, 0.04,\n",
    "0.04, 0.05, 0.05, 0.05, 0.18, 0.19, 0.2 , 0.21, 0.21, 0.22, 0.25,\n",
    "0.31, 0.32, 0.33, 0.5 , 0.51, 0.51, 0.51, 0.52, 0.52, 0.52, 0.52,\n",
    "0.52, 0.53, 0.54, 0.55, 0.56, 0.57, 0.58, 0.58, 0.59, 0.6 , 0.61,\n",
    "0.61, 0.61, 0.61, 0.61, 0.61, 0.61, 0.62, 0.62, 0.62, 0.62, 0.62,\n",
    "0.62, 0.62, 0.62, 0.62, 0.62, 0.62, 0.63, 0.63, 0.63, 0.64, 0.65,\n",
    "0.74, 0.75, 0.76, 0.76, 0.76, 0.77, 0.77, 0.77, 0.77, 0.77, 0.77,\n",
    "0.77, 0.78, 0.84, 0.85, 0.85, 0.88, 0.89, 0.9 , 0.91, 0.92, 0.93,\n",
    "0.94, 0.95, 0.96, 0.97, 0.97, 0.97, 0.97, 0.97, 0.98, 0.98, 0.98,\n",
    "0.99\n",
    "```\n",
    "\n",
    "- there are multiple strategies for adjusting duplicate values\n",
    "\n",
    "  - for now choose simplest just increment by 0.001 assuming less then ten repeats.\n",
    "  \n",
    "  - could account for number of repeated values, the values of the endpoints of the sequences, could exponentially weight, account for one sided sequences e.g. 0.00, 0.00 or 0.99, 0.99"
   ]
  },
  {
   "cell_type": "code",
   "execution_count": 33,
   "metadata": {},
   "outputs": [],
   "source": [
    "# Minimum unique array sum algorithm\n",
    "def min_sum(foo): \n",
    "    bar = foo.copy()\n",
    "  \n",
    "    for i in range(1, len(bar)): \n",
    "        if bar[i] == bar[i - 1]:          \n",
    "            j = i \n",
    "            while j < n and bar[j] <= bar[j - 1]:          \n",
    "                bar[j] = bar[j] + 0.001\n",
    "                j += 1\n",
    "    return bar"
   ]
  },
  {
   "cell_type": "code",
   "execution_count": 34,
   "metadata": {},
   "outputs": [],
   "source": [
    "# slight improvement on min_sum\n",
    "def replace_duplicates_with_geometric(target_nodes):\n",
    "    my_target_nodes = target_nodes.copy()\n",
    "    my_target_nodes = my_target_nodes.astype(float)\n",
    "    \n",
    "    # adding one so can use geometric expansion (doesn't work for)\n",
    "    my_target_nodes += 1\n",
    "\n",
    "    u, c = np.unique(my_target_nodes, return_counts=True)\n",
    "    duplicates = u[np.where(c!=1)]\n",
    "\n",
    "    for duplicate in duplicates:\n",
    "        idxs = np.where(my_target_nodes==duplicate)[0]\n",
    "        \n",
    "        # don't expand beyond bundle endpoints\n",
    "        if (idxs[0] > 0):\n",
    "            idxs = np.insert(idxs, 0, idxs[0]-1)\n",
    "        \n",
    "        if (idxs[-1] < len(my_target_nodes)-1):\n",
    "            idxs = np.append(idxs, idxs[-1]+1)\n",
    "\n",
    "        values = np.geomspace(my_target_nodes[idxs[0]], my_target_nodes[idxs[-1]], len(idxs))\n",
    "\n",
    "        np.put(my_target_nodes, idxs, values)\n",
    "    \n",
    "    my_target_nodes -= 1\n",
    "    return my_target_nodes"
   ]
  },
  {
   "cell_type": "code",
   "execution_count": 35,
   "metadata": {},
   "outputs": [
    {
     "data": {
      "image/png": "[encoded data removed]",
      "text/plain": [
       "<Figure size 432x288 with 1 Axes>"
      ]
     },
     "metadata": {
      "needs_background": "light"
     },
     "output_type": "display_data"
    }
   ],
   "source": [
    "values = np.array(values_from_volume(scalar_data, fgarray, tractogram.affine))\n",
    "\n",
    "if use_afq_profile:\n",
    "    mean_values = afq_profile(\n",
    "        scalar_data,\n",
    "        tractogram.streamlines,\n",
    "        tractogram.affine,\n",
    "        weights=gaussian_weights(tractogram.streamlines)\n",
    "    )\n",
    "else:\n",
    "    mean_values = np.mean(values, axis=0)\n",
    "\n",
    "rewarped_fgarray = [None] * len(tractogram.streamlines)\n",
    "interp_fgarray = [None] *  len(tractogram.streamlines)\n",
    "\n",
    "for streamline_idx in range(len(tractogram.streamlines)):\n",
    "    x = fgarray[streamline_idx][:,0]\n",
    "    y = fgarray[streamline_idx][:,1]\n",
    "    z = fgarray[streamline_idx][:,2]\n",
    "    \n",
    "    tck, u = splprep([x, y, z], s=0)\n",
    "\n",
    "    # could reuse from above\n",
    "    target_nodes = warp_target_nodes(values[streamline_idx], mean_values)\n",
    "\n",
    "    new_points = splev(target_nodes/n_points, tck)\n",
    "    rewarped_fgarray[streamline_idx] = np.array(new_points).T\n",
    "    \n",
    "#     u = minSum(target_nodes/n_points)\n",
    "    u = replace_duplicates_with_geometric(target_nodes)\n",
    "    u = u/n_points\n",
    "    new_points = splev(u, tck)\n",
    "    interp_fgarray[streamline_idx] = np.array(new_points).T\n",
    "    \n",
    "#     if random_streamline_idx == streamline_idx:\n",
    "#         print(target_nodes)\n",
    "#         print(target_nodes/n_points)\n",
    "#         print(rewarped_fgarray[streamline_idx])\n",
    "#         print(u)\n",
    "#         print(interp_fgarray[streamline_idx])\n",
    "\n",
    "# plot_bundle(f'original {subject} {bundle_name}', fgarray)\n",
    "# plot_bundle(f'warped {subject} {bundle_name}', warped_fgarray)\n",
    "# plot_bundle(f'rewarped {subject} {bundle_name}', rewarped_fgarray)\n",
    "plot_bundle(f'interp {subject} {bundle_name}', interp_fgarray)\n",
    "\n",
    "if show_random_streamline:\n",
    "    plot_streamline(f'original {subject} {bundle_name}', fgarray, random_streamline_idx)\n",
    "    plot_streamline(f'warped {subject} {bundle_name}', warped_fgarray, random_streamline_idx)\n",
    "    # plot_streamline(f'rewarped {subject} {bundle_name}', rewarped_fgarray, random_streamline_idx)\n",
    "    plot_streamline(f'interp {subject} {bundle_name}', interp_fgarray, random_streamline_idx)"
   ]
  },
  {
   "cell_type": "markdown",
   "metadata": {},
   "source": [
    "#### TODO: Novel Alternative Visualization\n",
    "\n",
    "Want to visulalize the dispersion across nodes:\n",
    "\n",
    "- Plot the median at each node (instead of individual streamlines as below)\n",
    "\n",
    "- Then scale the size of the point based on the determinate of the covariance matrix\n",
    "\n",
    "Could then plot both before and after warping on same chart"
   ]
  },
  {
   "cell_type": "code",
   "execution_count": 36,
   "metadata": {},
   "outputs": [
    {
     "data": {
      "image/png": "[encoded data removed]",
      "text/plain": [
       "<Figure size 432x288 with 1 Axes>"
      ]
     },
     "metadata": {
      "needs_background": "light"
     },
     "output_type": "display_data"
    }
   ],
   "source": [
    "plot_node(f'{subject} {bundle_name}', fgarray, 10)"
   ]
  },
  {
   "cell_type": "code",
   "execution_count": 37,
   "metadata": {},
   "outputs": [
    {
     "data": {
      "image/png": "[encoded data removed]",
      "text/plain": [
       "<Figure size 432x288 with 1 Axes>"
      ]
     },
     "metadata": {
      "needs_background": "light"
     },
     "output_type": "display_data"
    }
   ],
   "source": [
    "plot_node(f'{subject} {bundle_name}', warped_fgarray, 10)"
   ]
  },
  {
   "cell_type": "code",
   "execution_count": null,
   "metadata": {},
   "outputs": [],
   "source": []
  }
 ],
 "metadata": {
  "kernelspec": {
   "display_name": "Python 3",
   "language": "python",
   "name": "python3"
  },
  "language_info": {
   "codemirror_mode": {
    "name": "ipython",
    "version": 3
   },
   "file_extension": ".py",
   "mimetype": "text/x-python",
   "name": "python",
   "nbconvert_exporter": "python",
   "pygments_lexer": "ipython3",
   "version": "3.8.5"
  }
 },
 "nbformat": 4,
 "nbformat_minor": 4
}
